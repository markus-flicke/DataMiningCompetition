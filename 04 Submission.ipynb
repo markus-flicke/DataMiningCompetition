{
 "cells": [
  {
   "cell_type": "markdown",
   "metadata": {},
   "source": [
    "Names, Matriculation Numbers:  \n",
    "Jie Cheng: 5527191  \n",
    "Markus Flicke: 5489277  \n",
    "Bin Wei: 4277156"
   ]
  },
  {
   "cell_type": "markdown",
   "metadata": {},
   "source": [
    "# Submission\n",
    "Make a submission given a model\n",
    "* Train with the entire dataset"
   ]
  },
  {
   "cell_type": "code",
   "execution_count": 1,
   "metadata": {},
   "outputs": [],
   "source": [
    "import pandas as pd"
   ]
  },
  {
   "cell_type": "markdown",
   "metadata": {},
   "source": [
    "### Data"
   ]
  },
  {
   "cell_type": "code",
   "execution_count": 191,
   "metadata": {},
   "outputs": [],
   "source": [
    "FILE_POSTFIX = 'imputed'\n",
    "\n",
    "df_train = pd.read_csv(f'train_{FILE_POSTFIX}.csv')\n",
    "df_train = df_train.sample(frac=1)\n",
    "ids = df_train.id\n",
    "df_train = df_train.drop('id', axis = 1)\n",
    "\n",
    "x_train = df_train.drop('target', axis = 1)\n",
    "y_train = df_train.target\n",
    "\n",
    "df_test = pd.read_csv(f'test_{FILE_POSTFIX}.csv')\n",
    "df_test = df_test.sample(frac=1)\n",
    "ids = df_test.id\n",
    "df_test = df_test.drop('id', axis = 1)"
   ]
  },
  {
   "cell_type": "markdown",
   "metadata": {},
   "source": [
    "### Model"
   ]
  },
  {
   "cell_type": "code",
   "execution_count": 192,
   "metadata": {},
   "outputs": [],
   "source": [
    "import xgboost as xgb\n",
    "def get_model(num_round = 13):\n",
    "    dtrain = xgb.DMatrix(x_train.values, label=y_train.values)\n",
    "\n",
    "    param = {'max_depth': 1, 'eta': 0.27, 'objective': 'binary:logistic', 'gamma':1, 'lambda': 1}\n",
    "    param['nthread'] = 8\n",
    "    param['eval_metric'] = 'auc'\n",
    "\n",
    "    evallist = [(dtrain, 'train')]\n",
    "    bst = xgb.train(param, dtrain, num_round, evallist, verbose_eval=False)\n",
    "    return bst"
   ]
  },
  {
   "cell_type": "code",
   "execution_count": null,
   "metadata": {},
   "outputs": [],
   "source": [
    "bst = get_model(400)"
   ]
  },
  {
   "cell_type": "markdown",
   "metadata": {},
   "source": [
    "### Submission\n",
    "Writes the submission file"
   ]
  },
  {
   "cell_type": "code",
   "execution_count": 174,
   "metadata": {},
   "outputs": [],
   "source": [
    "results = pd.DataFrame(zip(ids, preds), columns=['id', 'target'])\n",
    "results.id = results.id.astype(int)\n",
    "results.to_csv('submission.csv', index = False, sep = ',')"
   ]
  }
 ],
 "metadata": {
  "kernelspec": {
   "display_name": "Python 3",
   "language": "python",
   "name": "python3"
  },
  "language_info": {
   "codemirror_mode": {
    "name": "ipython",
    "version": 3
   },
   "file_extension": ".py",
   "mimetype": "text/x-python",
   "name": "python",
   "nbconvert_exporter": "python",
   "pygments_lexer": "ipython3",
   "version": "3.7.5"
  }
 },
 "nbformat": 4,
 "nbformat_minor": 4
}
