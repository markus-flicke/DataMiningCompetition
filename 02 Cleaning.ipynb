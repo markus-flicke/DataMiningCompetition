{
 "cells": [
  {
   "cell_type": "markdown",
   "metadata": {},
   "source": [
    "### Cleaning"
   ]
  },
  {
   "cell_type": "code",
   "execution_count": 1,
   "metadata": {},
   "outputs": [
    {
     "name": "stderr",
     "output_type": "stream",
     "text": [
      "Using TensorFlow backend.\n"
     ]
    }
   ],
   "source": [
    "import pandas as pd\n",
    "from fancyimpute import *"
   ]
  },
  {
   "cell_type": "code",
   "execution_count": 2,
   "metadata": {},
   "outputs": [],
   "source": [
    "df_train = pd.read_csv('train.csv')\n",
    "df_test = pd.read_csv('test.csv')\n",
    "target = df_train.target\n",
    "df_train = df_train.drop('target', axis = 1)"
   ]
  },
  {
   "cell_type": "markdown",
   "metadata": {},
   "source": [
    "Some ridicolous dtype conversions as NaN is not allowed for integers"
   ]
  },
  {
   "cell_type": "code",
   "execution_count": 3,
   "metadata": {},
   "outputs": [],
   "source": [
    "df_train.age = df_train.age.astype(float)\n",
    "df_test.marriage = df_test.marriage.astype(float)\n",
    "df_test.PAY_6 = df_test.PAY_6.astype(float)"
   ]
  },
  {
   "cell_type": "markdown",
   "metadata": {},
   "source": [
    "I wanted both dataframes together, so that the one-hot-encoding is consistent. Some categorical values only exist in train"
   ]
  },
  {
   "cell_type": "code",
   "execution_count": 4,
   "metadata": {},
   "outputs": [],
   "source": [
    "df_both = pd.concat([df_train, df_test], ignore_index=True)"
   ]
  },
  {
   "cell_type": "markdown",
   "metadata": {},
   "source": [
    "### Data impurity\n",
    "For some stupid reason, the data contains value 33. I am assuming it means 3"
   ]
  },
  {
   "cell_type": "code",
   "execution_count": 5,
   "metadata": {},
   "outputs": [],
   "source": [
    "df_both.marriage = df_both.marriage.apply(lambda x: 3 if x == 33 else x)"
   ]
  },
  {
   "cell_type": "code",
   "execution_count": 6,
   "metadata": {},
   "outputs": [],
   "source": [
    "# df_both = df_both.drop(['n_children', 'profession'], axis = 1) # Maybe these two variables are not important"
   ]
  },
  {
   "cell_type": "markdown",
   "metadata": {},
   "source": [
    "### Categorical variable -> One-hot-encoding"
   ]
  },
  {
   "cell_type": "code",
   "execution_count": 7,
   "metadata": {},
   "outputs": [],
   "source": [
    "df = pd.get_dummies(df_both, columns = ['education', 'sex', 'marriage', 'profession'])\n",
    "# df = pd.get_dummies(df, columns = [f'PAY_{x}' for x in range(1,6)]) # Seems to have no effect"
   ]
  },
  {
   "cell_type": "code",
   "execution_count": 8,
   "metadata": {},
   "outputs": [],
   "source": [
    "for i in range(1,6):\n",
    "    df[f'PAY_{i}_minus2'] = df[f'PAY_{i}'] == -2\n",
    "    df[f'PAY_{i}_minus1'] = df[f'PAY_{i}'] == -1"
   ]
  },
  {
   "cell_type": "markdown",
   "metadata": {},
   "source": [
    "### Min Max normalisation"
   ]
  },
  {
   "cell_type": "code",
   "execution_count": 18,
   "metadata": {},
   "outputs": [],
   "source": [
    "normalisation_columns = ['limit_balance', 'n_children', 'age'] + \\\n",
    "[f'PAY_{i}' for i in range(1,6)] +\\\n",
    "[f'BILL_AMT{i}' for i in range(1,6)] +\\\n",
    "[f'PAY_AMT{i}' for i in range(1,6)]"
   ]
  },
  {
   "cell_type": "code",
   "execution_count": 20,
   "metadata": {},
   "outputs": [],
   "source": [
    "for col_name in normalisation_columns:\n",
    "    col = df[col_name]\n",
    "    df[col_name] = (col-col.min())/(col.max()-col.min())"
   ]
  },
  {
   "cell_type": "markdown",
   "metadata": {},
   "source": [
    "### Imputation with [Fancyimpute](https://stackoverflow.com/questions/45321406/missing-value-imputation-in-python-using-knn)"
   ]
  },
  {
   "cell_type": "code",
   "execution_count": 23,
   "metadata": {},
   "outputs": [
    {
     "name": "stdout",
     "output_type": "stream",
     "text": [
      "Imputing row 1/30000 with 0 missing, elapsed time: 277.262\n",
      "Imputing row 101/30000 with 0 missing, elapsed time: 277.282\n",
      "Imputing row 201/30000 with 0 missing, elapsed time: 277.283\n",
      "Imputing row 301/30000 with 0 missing, elapsed time: 277.283\n",
      "Imputing row 401/30000 with 0 missing, elapsed time: 277.284\n",
      "Imputing row 501/30000 with 0 missing, elapsed time: 277.284\n",
      "Imputing row 601/30000 with 0 missing, elapsed time: 277.285\n",
      "Imputing row 701/30000 with 0 missing, elapsed time: 277.285\n",
      "Imputing row 801/30000 with 0 missing, elapsed time: 277.285\n",
      "Imputing row 901/30000 with 0 missing, elapsed time: 277.285\n",
      "Imputing row 1001/30000 with 0 missing, elapsed time: 277.286\n",
      "Imputing row 1101/30000 with 0 missing, elapsed time: 277.286\n",
      "Imputing row 1201/30000 with 0 missing, elapsed time: 277.286\n",
      "Imputing row 1301/30000 with 0 missing, elapsed time: 277.286\n",
      "Imputing row 1401/30000 with 0 missing, elapsed time: 277.287\n",
      "Imputing row 1501/30000 with 0 missing, elapsed time: 277.287\n",
      "Imputing row 1601/30000 with 0 missing, elapsed time: 277.287\n",
      "Imputing row 1701/30000 with 0 missing, elapsed time: 277.288\n",
      "Imputing row 1801/30000 with 0 missing, elapsed time: 277.288\n",
      "Imputing row 1901/30000 with 0 missing, elapsed time: 277.288\n",
      "Imputing row 2001/30000 with 0 missing, elapsed time: 277.289\n",
      "Imputing row 2101/30000 with 0 missing, elapsed time: 277.289\n",
      "Imputing row 2201/30000 with 0 missing, elapsed time: 277.289\n",
      "Imputing row 2301/30000 with 0 missing, elapsed time: 277.289\n",
      "Imputing row 2401/30000 with 0 missing, elapsed time: 277.290\n",
      "Imputing row 2501/30000 with 0 missing, elapsed time: 277.290\n",
      "Imputing row 2601/30000 with 0 missing, elapsed time: 277.290\n",
      "Imputing row 2701/30000 with 0 missing, elapsed time: 277.290\n",
      "Imputing row 2801/30000 with 0 missing, elapsed time: 277.291\n",
      "Imputing row 2901/30000 with 0 missing, elapsed time: 277.291\n",
      "Imputing row 3001/30000 with 0 missing, elapsed time: 277.291\n",
      "Imputing row 3101/30000 with 1 missing, elapsed time: 277.348\n",
      "Imputing row 3201/30000 with 0 missing, elapsed time: 277.363\n",
      "Imputing row 3301/30000 with 0 missing, elapsed time: 277.383\n",
      "Imputing row 3401/30000 with 0 missing, elapsed time: 277.393\n",
      "Imputing row 3501/30000 with 0 missing, elapsed time: 277.406\n",
      "Imputing row 3601/30000 with 0 missing, elapsed time: 277.437\n",
      "Imputing row 3701/30000 with 0 missing, elapsed time: 277.452\n",
      "Imputing row 3801/30000 with 0 missing, elapsed time: 277.476\n",
      "Imputing row 3901/30000 with 0 missing, elapsed time: 277.551\n",
      "Imputing row 4001/30000 with 0 missing, elapsed time: 277.576\n",
      "Imputing row 4101/30000 with 0 missing, elapsed time: 277.601\n",
      "Imputing row 4201/30000 with 0 missing, elapsed time: 277.622\n",
      "Imputing row 4301/30000 with 0 missing, elapsed time: 277.631\n",
      "Imputing row 4401/30000 with 0 missing, elapsed time: 277.636\n",
      "Imputing row 4501/30000 with 0 missing, elapsed time: 277.647\n",
      "Imputing row 4601/30000 with 0 missing, elapsed time: 277.654\n",
      "Imputing row 4701/30000 with 0 missing, elapsed time: 277.659\n",
      "Imputing row 4801/30000 with 0 missing, elapsed time: 277.665\n",
      "Imputing row 4901/30000 with 1 missing, elapsed time: 277.670\n",
      "Imputing row 5001/30000 with 0 missing, elapsed time: 277.678\n",
      "Imputing row 5101/30000 with 0 missing, elapsed time: 277.689\n",
      "Imputing row 5201/30000 with 0 missing, elapsed time: 277.705\n",
      "Imputing row 5301/30000 with 1 missing, elapsed time: 277.713\n",
      "Imputing row 5401/30000 with 0 missing, elapsed time: 277.719\n",
      "Imputing row 5501/30000 with 0 missing, elapsed time: 277.726\n",
      "Imputing row 5601/30000 with 0 missing, elapsed time: 277.733\n",
      "Imputing row 5701/30000 with 0 missing, elapsed time: 277.738\n",
      "Imputing row 5801/30000 with 0 missing, elapsed time: 277.741\n",
      "Imputing row 5901/30000 with 0 missing, elapsed time: 277.747\n",
      "Imputing row 6001/30000 with 0 missing, elapsed time: 277.752\n",
      "Imputing row 6101/30000 with 0 missing, elapsed time: 277.758\n",
      "Imputing row 6201/30000 with 0 missing, elapsed time: 277.762\n",
      "Imputing row 6301/30000 with 0 missing, elapsed time: 277.768\n",
      "Imputing row 6401/30000 with 0 missing, elapsed time: 277.774\n",
      "Imputing row 6501/30000 with 0 missing, elapsed time: 277.778\n",
      "Imputing row 6601/30000 with 0 missing, elapsed time: 277.781\n",
      "Imputing row 6701/30000 with 0 missing, elapsed time: 277.785\n",
      "Imputing row 6801/30000 with 0 missing, elapsed time: 277.788\n",
      "Imputing row 6901/30000 with 0 missing, elapsed time: 277.793\n",
      "Imputing row 7001/30000 with 0 missing, elapsed time: 277.796\n",
      "Imputing row 7101/30000 with 0 missing, elapsed time: 277.802\n",
      "Imputing row 7201/30000 with 0 missing, elapsed time: 277.807\n",
      "Imputing row 7301/30000 with 0 missing, elapsed time: 277.813\n",
      "Imputing row 7401/30000 with 0 missing, elapsed time: 277.817\n",
      "Imputing row 7501/30000 with 0 missing, elapsed time: 277.822\n",
      "Imputing row 7601/30000 with 1 missing, elapsed time: 277.826\n",
      "Imputing row 7701/30000 with 0 missing, elapsed time: 277.829\n",
      "Imputing row 7801/30000 with 0 missing, elapsed time: 277.832\n",
      "Imputing row 7901/30000 with 0 missing, elapsed time: 277.840\n",
      "Imputing row 8001/30000 with 0 missing, elapsed time: 277.845\n",
      "Imputing row 8101/30000 with 0 missing, elapsed time: 277.855\n",
      "Imputing row 8201/30000 with 0 missing, elapsed time: 277.860\n",
      "Imputing row 8301/30000 with 0 missing, elapsed time: 277.862\n",
      "Imputing row 8401/30000 with 0 missing, elapsed time: 277.866\n",
      "Imputing row 8501/30000 with 0 missing, elapsed time: 277.871\n",
      "Imputing row 8601/30000 with 0 missing, elapsed time: 277.874\n",
      "Imputing row 8701/30000 with 0 missing, elapsed time: 277.880\n",
      "Imputing row 8801/30000 with 0 missing, elapsed time: 277.885\n",
      "Imputing row 8901/30000 with 0 missing, elapsed time: 277.889\n",
      "Imputing row 9001/30000 with 0 missing, elapsed time: 277.893\n",
      "Imputing row 9101/30000 with 0 missing, elapsed time: 277.898\n",
      "Imputing row 9201/30000 with 1 missing, elapsed time: 277.902\n",
      "Imputing row 9301/30000 with 1 missing, elapsed time: 277.906\n",
      "Imputing row 9401/30000 with 0 missing, elapsed time: 277.911\n",
      "Imputing row 9501/30000 with 1 missing, elapsed time: 277.914\n",
      "Imputing row 9601/30000 with 0 missing, elapsed time: 277.921\n",
      "Imputing row 9701/30000 with 0 missing, elapsed time: 277.925\n",
      "Imputing row 9801/30000 with 0 missing, elapsed time: 277.947\n",
      "Imputing row 9901/30000 with 1 missing, elapsed time: 277.951\n",
      "Imputing row 10001/30000 with 0 missing, elapsed time: 277.957\n",
      "Imputing row 10101/30000 with 0 missing, elapsed time: 277.967\n",
      "Imputing row 10201/30000 with 0 missing, elapsed time: 277.975\n",
      "Imputing row 10301/30000 with 2 missing, elapsed time: 277.981\n",
      "Imputing row 10401/30000 with 0 missing, elapsed time: 277.986\n",
      "Imputing row 10501/30000 with 1 missing, elapsed time: 277.989\n",
      "Imputing row 10601/30000 with 1 missing, elapsed time: 277.994\n",
      "Imputing row 10701/30000 with 0 missing, elapsed time: 278.000\n",
      "Imputing row 10801/30000 with 1 missing, elapsed time: 278.005\n",
      "Imputing row 10901/30000 with 0 missing, elapsed time: 278.008\n",
      "Imputing row 11001/30000 with 0 missing, elapsed time: 278.011\n",
      "Imputing row 11101/30000 with 1 missing, elapsed time: 278.017\n",
      "Imputing row 11201/30000 with 0 missing, elapsed time: 278.021\n",
      "Imputing row 11301/30000 with 0 missing, elapsed time: 278.026\n",
      "Imputing row 11401/30000 with 0 missing, elapsed time: 278.032\n",
      "Imputing row 11501/30000 with 0 missing, elapsed time: 278.036\n",
      "Imputing row 11601/30000 with 0 missing, elapsed time: 278.040\n",
      "Imputing row 11701/30000 with 1 missing, elapsed time: 278.044\n",
      "Imputing row 11801/30000 with 1 missing, elapsed time: 278.049\n",
      "Imputing row 11901/30000 with 0 missing, elapsed time: 278.055\n",
      "Imputing row 12001/30000 with 0 missing, elapsed time: 278.060\n",
      "Imputing row 12101/30000 with 0 missing, elapsed time: 278.064\n",
      "Imputing row 12201/30000 with 1 missing, elapsed time: 278.068\n",
      "Imputing row 12301/30000 with 0 missing, elapsed time: 278.073\n",
      "Imputing row 12401/30000 with 0 missing, elapsed time: 278.078\n",
      "Imputing row 12501/30000 with 0 missing, elapsed time: 278.081\n",
      "Imputing row 12601/30000 with 0 missing, elapsed time: 278.087\n",
      "Imputing row 12701/30000 with 0 missing, elapsed time: 278.092\n",
      "Imputing row 12801/30000 with 0 missing, elapsed time: 278.097\n",
      "Imputing row 12901/30000 with 1 missing, elapsed time: 278.102\n",
      "Imputing row 13001/30000 with 0 missing, elapsed time: 278.110\n",
      "Imputing row 13101/30000 with 0 missing, elapsed time: 278.112\n",
      "Imputing row 13201/30000 with 0 missing, elapsed time: 278.117\n",
      "Imputing row 13301/30000 with 0 missing, elapsed time: 278.122\n",
      "Imputing row 13401/30000 with 0 missing, elapsed time: 278.127\n",
      "Imputing row 13501/30000 with 0 missing, elapsed time: 278.133\n",
      "Imputing row 13601/30000 with 0 missing, elapsed time: 278.136\n",
      "Imputing row 13701/30000 with 0 missing, elapsed time: 278.140\n",
      "Imputing row 13801/30000 with 0 missing, elapsed time: 278.145\n",
      "Imputing row 13901/30000 with 2 missing, elapsed time: 278.151\n",
      "Imputing row 14001/30000 with 0 missing, elapsed time: 278.156\n",
      "Imputing row 14101/30000 with 0 missing, elapsed time: 278.160\n",
      "Imputing row 14201/30000 with 0 missing, elapsed time: 278.163\n",
      "Imputing row 14301/30000 with 0 missing, elapsed time: 278.168\n",
      "Imputing row 14401/30000 with 0 missing, elapsed time: 278.174\n",
      "Imputing row 14501/30000 with 0 missing, elapsed time: 278.178\n",
      "Imputing row 14601/30000 with 0 missing, elapsed time: 278.183\n",
      "Imputing row 14701/30000 with 0 missing, elapsed time: 278.189\n",
      "Imputing row 14801/30000 with 0 missing, elapsed time: 278.193\n",
      "Imputing row 14901/30000 with 0 missing, elapsed time: 278.196\n",
      "Imputing row 15001/30000 with 0 missing, elapsed time: 278.201\n",
      "Imputing row 15101/30000 with 0 missing, elapsed time: 278.208\n",
      "Imputing row 15201/30000 with 0 missing, elapsed time: 278.211\n",
      "Imputing row 15301/30000 with 0 missing, elapsed time: 278.215\n",
      "Imputing row 15401/30000 with 0 missing, elapsed time: 278.219\n",
      "Imputing row 15501/30000 with 0 missing, elapsed time: 278.223\n",
      "Imputing row 15601/30000 with 0 missing, elapsed time: 278.227\n",
      "Imputing row 15701/30000 with 0 missing, elapsed time: 278.231\n",
      "Imputing row 15801/30000 with 0 missing, elapsed time: 278.232\n",
      "Imputing row 15901/30000 with 0 missing, elapsed time: 278.236\n",
      "Imputing row 16001/30000 with 0 missing, elapsed time: 278.240\n",
      "Imputing row 16101/30000 with 1 missing, elapsed time: 278.242\n",
      "Imputing row 16201/30000 with 0 missing, elapsed time: 278.247\n",
      "Imputing row 16301/30000 with 0 missing, elapsed time: 278.250\n",
      "Imputing row 16401/30000 with 0 missing, elapsed time: 278.254\n",
      "Imputing row 16501/30000 with 0 missing, elapsed time: 278.255\n",
      "Imputing row 16601/30000 with 0 missing, elapsed time: 278.261\n",
      "Imputing row 16701/30000 with 0 missing, elapsed time: 278.264\n",
      "Imputing row 16801/30000 with 0 missing, elapsed time: 278.267\n",
      "Imputing row 16901/30000 with 0 missing, elapsed time: 278.271\n",
      "Imputing row 17001/30000 with 0 missing, elapsed time: 278.275\n",
      "Imputing row 17101/30000 with 0 missing, elapsed time: 278.277\n",
      "Imputing row 17201/30000 with 0 missing, elapsed time: 278.282\n",
      "Imputing row 17301/30000 with 0 missing, elapsed time: 278.287\n",
      "Imputing row 17401/30000 with 0 missing, elapsed time: 278.293\n",
      "Imputing row 17501/30000 with 0 missing, elapsed time: 278.296\n",
      "Imputing row 17601/30000 with 0 missing, elapsed time: 278.298\n",
      "Imputing row 17701/30000 with 0 missing, elapsed time: 278.299\n",
      "Imputing row 17801/30000 with 0 missing, elapsed time: 278.300\n",
      "Imputing row 17901/30000 with 0 missing, elapsed time: 278.303\n",
      "Imputing row 18001/30000 with 0 missing, elapsed time: 278.307\n",
      "Imputing row 18101/30000 with 0 missing, elapsed time: 278.313\n",
      "Imputing row 18201/30000 with 0 missing, elapsed time: 278.315\n",
      "Imputing row 18301/30000 with 0 missing, elapsed time: 278.317\n",
      "Imputing row 18401/30000 with 0 missing, elapsed time: 278.317\n",
      "Imputing row 18501/30000 with 0 missing, elapsed time: 278.319\n",
      "Imputing row 18601/30000 with 0 missing, elapsed time: 278.321\n",
      "Imputing row 18701/30000 with 0 missing, elapsed time: 278.322\n",
      "Imputing row 18801/30000 with 0 missing, elapsed time: 278.323\n",
      "Imputing row 18901/30000 with 0 missing, elapsed time: 278.325\n",
      "Imputing row 19001/30000 with 0 missing, elapsed time: 278.326\n",
      "Imputing row 19101/30000 with 0 missing, elapsed time: 278.327\n",
      "Imputing row 19201/30000 with 0 missing, elapsed time: 278.328\n",
      "Imputing row 19301/30000 with 0 missing, elapsed time: 278.329\n",
      "Imputing row 19401/30000 with 0 missing, elapsed time: 278.331\n",
      "Imputing row 19501/30000 with 0 missing, elapsed time: 278.332\n",
      "Imputing row 19601/30000 with 0 missing, elapsed time: 278.333\n",
      "Imputing row 19701/30000 with 0 missing, elapsed time: 278.334\n",
      "Imputing row 19801/30000 with 0 missing, elapsed time: 278.336\n",
      "Imputing row 19901/30000 with 0 missing, elapsed time: 278.337\n",
      "Imputing row 20001/30000 with 0 missing, elapsed time: 278.339\n",
      "Imputing row 20101/30000 with 0 missing, elapsed time: 278.340\n",
      "Imputing row 20201/30000 with 0 missing, elapsed time: 278.341\n",
      "Imputing row 20301/30000 with 0 missing, elapsed time: 278.342\n",
      "Imputing row 20401/30000 with 0 missing, elapsed time: 278.344\n",
      "Imputing row 20501/30000 with 0 missing, elapsed time: 278.345\n",
      "Imputing row 20601/30000 with 0 missing, elapsed time: 278.346\n",
      "Imputing row 20701/30000 with 0 missing, elapsed time: 278.348\n",
      "Imputing row 20801/30000 with 0 missing, elapsed time: 278.349\n",
      "Imputing row 20901/30000 with 0 missing, elapsed time: 278.351\n",
      "Imputing row 21001/30000 with 0 missing, elapsed time: 278.352\n",
      "Imputing row 21101/30000 with 0 missing, elapsed time: 278.354\n",
      "Imputing row 21201/30000 with 0 missing, elapsed time: 278.355\n",
      "Imputing row 21301/30000 with 0 missing, elapsed time: 278.356\n",
      "Imputing row 21401/30000 with 0 missing, elapsed time: 278.358\n",
      "Imputing row 21501/30000 with 0 missing, elapsed time: 278.359\n",
      "Imputing row 21601/30000 with 0 missing, elapsed time: 278.361\n",
      "Imputing row 21701/30000 with 0 missing, elapsed time: 278.362\n",
      "Imputing row 21801/30000 with 0 missing, elapsed time: 278.363\n",
      "Imputing row 21901/30000 with 0 missing, elapsed time: 278.365\n",
      "Imputing row 22001/30000 with 0 missing, elapsed time: 278.366\n",
      "Imputing row 22101/30000 with 0 missing, elapsed time: 278.367\n",
      "Imputing row 22201/30000 with 0 missing, elapsed time: 278.369\n",
      "Imputing row 22301/30000 with 0 missing, elapsed time: 278.370\n",
      "Imputing row 22401/30000 with 0 missing, elapsed time: 278.371\n",
      "Imputing row 22501/30000 with 0 missing, elapsed time: 278.373\n",
      "Imputing row 22601/30000 with 0 missing, elapsed time: 278.375\n",
      "Imputing row 22701/30000 with 0 missing, elapsed time: 278.376\n",
      "Imputing row 22801/30000 with 0 missing, elapsed time: 278.378\n",
      "Imputing row 22901/30000 with 0 missing, elapsed time: 278.379\n",
      "Imputing row 23001/30000 with 0 missing, elapsed time: 278.379\n",
      "Imputing row 23101/30000 with 0 missing, elapsed time: 278.381\n",
      "Imputing row 23201/30000 with 0 missing, elapsed time: 278.382\n",
      "Imputing row 23301/30000 with 0 missing, elapsed time: 278.383\n",
      "Imputing row 23401/30000 with 0 missing, elapsed time: 278.384\n",
      "Imputing row 23501/30000 with 0 missing, elapsed time: 278.385\n",
      "Imputing row 23601/30000 with 0 missing, elapsed time: 278.387\n",
      "Imputing row 23701/30000 with 0 missing, elapsed time: 278.388\n",
      "Imputing row 23801/30000 with 0 missing, elapsed time: 278.389\n",
      "Imputing row 23901/30000 with 1 missing, elapsed time: 278.391\n",
      "Imputing row 24001/30000 with 0 missing, elapsed time: 278.392\n",
      "Imputing row 24101/30000 with 0 missing, elapsed time: 278.394\n",
      "Imputing row 24201/30000 with 0 missing, elapsed time: 278.395\n",
      "Imputing row 24301/30000 with 0 missing, elapsed time: 278.397\n",
      "Imputing row 24401/30000 with 0 missing, elapsed time: 278.398\n",
      "Imputing row 24501/30000 with 0 missing, elapsed time: 278.400\n",
      "Imputing row 24601/30000 with 0 missing, elapsed time: 278.401\n",
      "Imputing row 24701/30000 with 0 missing, elapsed time: 278.402\n",
      "Imputing row 24801/30000 with 0 missing, elapsed time: 278.404\n",
      "Imputing row 24901/30000 with 0 missing, elapsed time: 278.406\n",
      "Imputing row 25001/30000 with 0 missing, elapsed time: 278.407\n",
      "Imputing row 25101/30000 with 0 missing, elapsed time: 278.408\n",
      "Imputing row 25201/30000 with 0 missing, elapsed time: 278.410\n",
      "Imputing row 25301/30000 with 0 missing, elapsed time: 278.411\n",
      "Imputing row 25401/30000 with 0 missing, elapsed time: 278.413\n",
      "Imputing row 25501/30000 with 0 missing, elapsed time: 278.414\n",
      "Imputing row 25601/30000 with 0 missing, elapsed time: 278.416\n",
      "Imputing row 25701/30000 with 0 missing, elapsed time: 278.417\n",
      "Imputing row 25801/30000 with 1 missing, elapsed time: 278.419\n",
      "Imputing row 25901/30000 with 0 missing, elapsed time: 278.420\n",
      "Imputing row 26001/30000 with 0 missing, elapsed time: 278.422\n",
      "Imputing row 26101/30000 with 0 missing, elapsed time: 278.424\n",
      "Imputing row 26201/30000 with 0 missing, elapsed time: 278.425\n",
      "Imputing row 26301/30000 with 0 missing, elapsed time: 278.427\n",
      "Imputing row 26401/30000 with 0 missing, elapsed time: 278.429\n",
      "Imputing row 26501/30000 with 0 missing, elapsed time: 278.430\n",
      "Imputing row 26601/30000 with 0 missing, elapsed time: 278.431\n",
      "Imputing row 26701/30000 with 1 missing, elapsed time: 278.433\n",
      "Imputing row 26801/30000 with 0 missing, elapsed time: 278.435\n",
      "Imputing row 26901/30000 with 0 missing, elapsed time: 278.437\n",
      "Imputing row 27001/30000 with 0 missing, elapsed time: 278.438\n",
      "Imputing row 27101/30000 with 0 missing, elapsed time: 278.439\n",
      "Imputing row 27201/30000 with 0 missing, elapsed time: 278.441\n",
      "Imputing row 27301/30000 with 0 missing, elapsed time: 278.442\n",
      "Imputing row 27401/30000 with 0 missing, elapsed time: 278.443\n",
      "Imputing row 27501/30000 with 0 missing, elapsed time: 278.445\n",
      "Imputing row 27601/30000 with 0 missing, elapsed time: 278.447\n",
      "Imputing row 27701/30000 with 0 missing, elapsed time: 278.448\n",
      "Imputing row 27801/30000 with 0 missing, elapsed time: 278.449\n",
      "Imputing row 27901/30000 with 0 missing, elapsed time: 278.451\n",
      "Imputing row 28001/30000 with 0 missing, elapsed time: 278.453\n",
      "Imputing row 28101/30000 with 0 missing, elapsed time: 278.455\n",
      "Imputing row 28201/30000 with 0 missing, elapsed time: 278.455\n",
      "Imputing row 28301/30000 with 0 missing, elapsed time: 278.457\n",
      "Imputing row 28401/30000 with 0 missing, elapsed time: 278.459\n",
      "Imputing row 28501/30000 with 0 missing, elapsed time: 278.460\n",
      "Imputing row 28601/30000 with 0 missing, elapsed time: 278.462\n",
      "Imputing row 28701/30000 with 0 missing, elapsed time: 278.463\n",
      "Imputing row 28801/30000 with 0 missing, elapsed time: 278.465\n",
      "Imputing row 28901/30000 with 0 missing, elapsed time: 278.466\n",
      "Imputing row 29001/30000 with 0 missing, elapsed time: 278.467\n",
      "Imputing row 29101/30000 with 0 missing, elapsed time: 278.469\n",
      "Imputing row 29201/30000 with 0 missing, elapsed time: 278.471\n",
      "Imputing row 29301/30000 with 0 missing, elapsed time: 278.473\n",
      "Imputing row 29401/30000 with 0 missing, elapsed time: 278.475\n",
      "Imputing row 29501/30000 with 0 missing, elapsed time: 278.477\n",
      "Imputing row 29601/30000 with 0 missing, elapsed time: 278.479\n",
      "Imputing row 29701/30000 with 0 missing, elapsed time: 278.480\n",
      "Imputing row 29801/30000 with 0 missing, elapsed time: 278.482\n",
      "Imputing row 29901/30000 with 0 missing, elapsed time: 278.485\n",
      "Wall time: 4min 39s\n"
     ]
    }
   ],
   "source": [
    "%%time\n",
    "X_imputed = KNN(k=3).solve(df.values, df.isnull().values)\n",
    "# X_imputed = IterativeImputer().fit_transform(X=df.values)#, missing_mask= df.isnull().values)"
   ]
  },
  {
   "cell_type": "code",
   "execution_count": 24,
   "metadata": {},
   "outputs": [],
   "source": [
    "imputed_df = pd.DataFrame(X_imputed, columns = df.columns)"
   ]
  },
  {
   "cell_type": "code",
   "execution_count": 25,
   "metadata": {},
   "outputs": [
    {
     "name": "stderr",
     "output_type": "stream",
     "text": [
      "c:\\users\\m\\appdata\\local\\programs\\python\\python37\\lib\\site-packages\\ipykernel_launcher.py:2: SettingWithCopyWarning: \n",
      "A value is trying to be set on a copy of a slice from a DataFrame.\n",
      "Try using .loc[row_indexer,col_indexer] = value instead\n",
      "\n",
      "See the caveats in the documentation: http://pandas.pydata.org/pandas-docs/stable/user_guide/indexing.html#returning-a-view-versus-a-copy\n",
      "  \n"
     ]
    }
   ],
   "source": [
    "df_train_imputed = imputed_df.iloc[:15000]\n",
    "df_train_imputed['target'] = target\n",
    "df_test_imputed = imputed_df.iloc[15000:]"
   ]
  },
  {
   "cell_type": "code",
   "execution_count": 26,
   "metadata": {},
   "outputs": [],
   "source": [
    "df_train_imputed.to_csv('train_imputed_normalised.csv', index = False)\n",
    "df_test_imputed.to_csv('test_imputed_normalised.csv', index = False)"
   ]
  },
  {
   "cell_type": "code",
   "execution_count": null,
   "metadata": {},
   "outputs": [],
   "source": []
  }
 ],
 "metadata": {
  "kernelspec": {
   "display_name": "Python 3",
   "language": "python",
   "name": "python3"
  },
  "language_info": {
   "codemirror_mode": {
    "name": "ipython",
    "version": 3
   },
   "file_extension": ".py",
   "mimetype": "text/x-python",
   "name": "python",
   "nbconvert_exporter": "python",
   "pygments_lexer": "ipython3",
   "version": "3.7.5"
  }
 },
 "nbformat": 4,
 "nbformat_minor": 4
}
