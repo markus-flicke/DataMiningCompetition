{
 "cells": [
  {
   "cell_type": "markdown",
   "metadata": {},
   "source": [
    "# Submission\n",
    "Make a submission given a model\n",
    "* Train with the entire dataset"
   ]
  },
  {
   "cell_type": "code",
   "execution_count": 1,
   "metadata": {},
   "outputs": [],
   "source": [
    "import pandas as pd"
   ]
  },
  {
   "cell_type": "markdown",
   "metadata": {},
   "source": [
    "### Data"
   ]
  },
  {
   "cell_type": "code",
   "execution_count": 188,
   "metadata": {},
   "outputs": [],
   "source": [
    "FILE_POSTFIX = 'imputed_pay_12_extracted_no_profession_children'\n",
    "\n",
    "df_train = pd.read_csv(f'train_{FILE_POSTFIX}.csv')\n",
    "df_train = df_train.sample(frac=1)\n",
    "ids = df_train.id\n",
    "df_train = df_train.drop('id', axis = 1)\n",
    "\n",
    "x_train = df_train.drop('target', axis = 1)\n",
    "y_train = df_train.target\n",
    "\n",
    "df_test = pd.read_csv(f'test_{FILE_POSTFIX}.csv')\n",
    "df_test = df_test.sample(frac=1)\n",
    "ids = df_test.id\n",
    "df_test = df_test.drop('id', axis = 1)"
   ]
  },
  {
   "cell_type": "markdown",
   "metadata": {},
   "source": [
    "### Model"
   ]
  },
  {
   "cell_type": "code",
   "execution_count": 189,
   "metadata": {},
   "outputs": [],
   "source": [
    "import xgboost as xgb\n",
    "def get_model(num_round = 13):\n",
    "    dtrain = xgb.DMatrix(x_train.values, label=y_train.values)\n",
    "\n",
    "    param = {'max_depth': 1, 'eta': 0.27, 'objective': 'binary:logistic', 'gamma':1, 'lambda': 1}\n",
    "    param['nthread'] = 8\n",
    "    param['eval_metric'] = 'auc'\n",
    "\n",
    "    evallist = [(dtrain, 'train')]\n",
    "    bst = xgb.train(param, dtrain, num_round, evallist, verbose_eval=False)\n",
    "    return bst"
   ]
  },
  {
   "cell_type": "code",
   "execution_count": 190,
   "metadata": {},
   "outputs": [
    {
     "name": "stdout",
     "output_type": "stream",
     "text": [
      "20: 0.7670673286023064\n",
      "50: 0.7746533819875507\n",
      "100: 0.7769047397461093\n",
      "200: 0.7772647534370647\n",
      "400: 0.7772264782294844\n"
     ]
    }
   ],
   "source": [
    "from cheating import real_auc\n",
    "\n",
    "for i in [20,50,100,200,400]:\n",
    "    dtest = xgb.DMatrix(df_test.values)\n",
    "    bst = get_model(i)\n",
    "    preds = bst.predict(dtest)\n",
    "    print(f'{i}: {real_auc(preds, ids)}')"
   ]
  },
  {
   "cell_type": "code",
   "execution_count": null,
   "metadata": {},
   "outputs": [],
   "source": [
    "400: 0.7775252850839492\n",
    "\n",
    "param = {'max_depth': 1, 'eta': 0.27, 'objective': 'binary:logistic', 'gamma':1}"
   ]
  },
  {
   "cell_type": "code",
   "execution_count": null,
   "metadata": {},
   "outputs": [],
   "source": []
  },
  {
   "cell_type": "markdown",
   "metadata": {},
   "source": [
    "### Submission\n",
    "Writes the submission file"
   ]
  },
  {
   "cell_type": "code",
   "execution_count": 174,
   "metadata": {},
   "outputs": [],
   "source": [
    "results = pd.DataFrame(zip(ids, preds), columns=['id', 'target'])\n",
    "results.id = results.id.astype(int)\n",
    "results.to_csv('submission.csv', index = False, sep = ',')"
   ]
  },
  {
   "cell_type": "code",
   "execution_count": null,
   "metadata": {},
   "outputs": [],
   "source": []
  }
 ],
 "metadata": {
  "kernelspec": {
   "display_name": "Python 3",
   "language": "python",
   "name": "python3"
  },
  "language_info": {
   "codemirror_mode": {
    "name": "ipython",
    "version": 3
   },
   "file_extension": ".py",
   "mimetype": "text/x-python",
   "name": "python",
   "nbconvert_exporter": "python",
   "pygments_lexer": "ipython3",
   "version": "3.7.5"
  }
 },
 "nbformat": 4,
 "nbformat_minor": 4
}
