{
 "cells": [
  {
   "cell_type": "markdown",
   "metadata": {},
   "source": [
    "### Cleaning"
   ]
  },
  {
   "cell_type": "code",
   "execution_count": 33,
   "metadata": {},
   "outputs": [],
   "source": [
    "import pandas as pd\n",
    "from fancyimpute import KNN"
   ]
  },
  {
   "cell_type": "code",
   "execution_count": 34,
   "metadata": {},
   "outputs": [],
   "source": [
    "df_train = pd.read_csv('train.csv')"
   ]
  },
  {
   "cell_type": "markdown",
   "metadata": {},
   "source": [
    "### Categorical variable -> One-hot-encoding"
   ]
  },
  {
   "cell_type": "code",
   "execution_count": 35,
   "metadata": {},
   "outputs": [],
   "source": [
    "df = pd.get_dummies(df_train, columns = ['education', 'sex', 'marriage', 'profession'])"
   ]
  },
  {
   "cell_type": "markdown",
   "metadata": {},
   "source": [
    "### Imputation with [Fancyimpute](https://stackoverflow.com/questions/45321406/missing-value-imputation-in-python-using-knn)"
   ]
  },
  {
   "cell_type": "code",
   "execution_count": 36,
   "metadata": {},
   "outputs": [
    {
     "name": "stdout",
     "output_type": "stream",
     "text": [
      "Imputing row 1/15000 with 0 missing, elapsed time: 52.457\n",
      "Imputing row 101/15000 with 0 missing, elapsed time: 52.458\n",
      "Imputing row 201/15000 with 0 missing, elapsed time: 52.458\n",
      "Imputing row 301/15000 with 0 missing, elapsed time: 52.458\n",
      "Imputing row 401/15000 with 0 missing, elapsed time: 52.458\n",
      "Imputing row 501/15000 with 0 missing, elapsed time: 52.459\n",
      "Imputing row 601/15000 with 0 missing, elapsed time: 52.459\n",
      "Imputing row 701/15000 with 0 missing, elapsed time: 52.459\n",
      "Imputing row 801/15000 with 0 missing, elapsed time: 52.460\n",
      "Imputing row 901/15000 with 0 missing, elapsed time: 52.460\n",
      "Imputing row 1001/15000 with 0 missing, elapsed time: 52.461\n",
      "Imputing row 1101/15000 with 0 missing, elapsed time: 52.461\n",
      "Imputing row 1201/15000 with 0 missing, elapsed time: 52.461\n",
      "Imputing row 1301/15000 with 0 missing, elapsed time: 52.461\n",
      "Imputing row 1401/15000 with 0 missing, elapsed time: 52.461\n",
      "Imputing row 1501/15000 with 0 missing, elapsed time: 52.462\n",
      "Imputing row 1601/15000 with 0 missing, elapsed time: 52.462\n",
      "Imputing row 1701/15000 with 0 missing, elapsed time: 52.462\n",
      "Imputing row 1801/15000 with 0 missing, elapsed time: 52.462\n",
      "Imputing row 1901/15000 with 0 missing, elapsed time: 52.462\n",
      "Imputing row 2001/15000 with 0 missing, elapsed time: 52.463\n",
      "Imputing row 2101/15000 with 0 missing, elapsed time: 52.463\n",
      "Imputing row 2201/15000 with 0 missing, elapsed time: 52.463\n",
      "Imputing row 2301/15000 with 0 missing, elapsed time: 52.463\n",
      "Imputing row 2401/15000 with 0 missing, elapsed time: 52.464\n",
      "Imputing row 2501/15000 with 0 missing, elapsed time: 52.464\n",
      "Imputing row 2601/15000 with 0 missing, elapsed time: 52.464\n",
      "Imputing row 2701/15000 with 0 missing, elapsed time: 52.464\n",
      "Imputing row 2801/15000 with 0 missing, elapsed time: 52.464\n",
      "Imputing row 2901/15000 with 0 missing, elapsed time: 52.465\n",
      "Imputing row 3001/15000 with 0 missing, elapsed time: 52.465\n",
      "Imputing row 3101/15000 with 1 missing, elapsed time: 52.467\n",
      "Imputing row 3201/15000 with 0 missing, elapsed time: 52.468\n",
      "Imputing row 3301/15000 with 0 missing, elapsed time: 52.469\n",
      "Imputing row 3401/15000 with 0 missing, elapsed time: 52.470\n",
      "Imputing row 3501/15000 with 0 missing, elapsed time: 52.471\n",
      "Imputing row 3601/15000 with 0 missing, elapsed time: 52.472\n",
      "Imputing row 3701/15000 with 0 missing, elapsed time: 52.473\n",
      "Imputing row 3801/15000 with 0 missing, elapsed time: 52.474\n",
      "Imputing row 3901/15000 with 0 missing, elapsed time: 52.475\n",
      "Imputing row 4001/15000 with 0 missing, elapsed time: 52.476\n",
      "Imputing row 4101/15000 with 0 missing, elapsed time: 52.477\n",
      "Imputing row 4201/15000 with 0 missing, elapsed time: 52.478\n",
      "Imputing row 4301/15000 with 0 missing, elapsed time: 52.480\n",
      "Imputing row 4401/15000 with 0 missing, elapsed time: 52.481\n",
      "Imputing row 4501/15000 with 0 missing, elapsed time: 52.482\n",
      "Imputing row 4601/15000 with 0 missing, elapsed time: 52.483\n",
      "Imputing row 4701/15000 with 0 missing, elapsed time: 52.484\n",
      "Imputing row 4801/15000 with 0 missing, elapsed time: 52.485\n",
      "Imputing row 4901/15000 with 1 missing, elapsed time: 52.485\n",
      "Imputing row 5001/15000 with 0 missing, elapsed time: 52.486\n",
      "Imputing row 5101/15000 with 0 missing, elapsed time: 52.487\n",
      "Imputing row 5201/15000 with 0 missing, elapsed time: 52.488\n",
      "Imputing row 5301/15000 with 1 missing, elapsed time: 52.489\n",
      "Imputing row 5401/15000 with 0 missing, elapsed time: 52.490\n",
      "Imputing row 5501/15000 with 0 missing, elapsed time: 52.491\n",
      "Imputing row 5601/15000 with 0 missing, elapsed time: 52.492\n",
      "Imputing row 5701/15000 with 0 missing, elapsed time: 52.493\n",
      "Imputing row 5801/15000 with 0 missing, elapsed time: 52.494\n",
      "Imputing row 5901/15000 with 0 missing, elapsed time: 52.495\n",
      "Imputing row 6001/15000 with 0 missing, elapsed time: 52.496\n",
      "Imputing row 6101/15000 with 0 missing, elapsed time: 52.497\n",
      "Imputing row 6201/15000 with 0 missing, elapsed time: 52.498\n",
      "Imputing row 6301/15000 with 0 missing, elapsed time: 52.499\n",
      "Imputing row 6401/15000 with 0 missing, elapsed time: 52.500\n",
      "Imputing row 6501/15000 with 0 missing, elapsed time: 52.501\n",
      "Imputing row 6601/15000 with 0 missing, elapsed time: 52.502\n",
      "Imputing row 6701/15000 with 0 missing, elapsed time: 52.503\n",
      "Imputing row 6801/15000 with 0 missing, elapsed time: 52.504\n",
      "Imputing row 6901/15000 with 0 missing, elapsed time: 52.505\n",
      "Imputing row 7001/15000 with 0 missing, elapsed time: 52.505\n",
      "Imputing row 7101/15000 with 0 missing, elapsed time: 52.507\n",
      "Imputing row 7201/15000 with 0 missing, elapsed time: 52.508\n",
      "Imputing row 7301/15000 with 0 missing, elapsed time: 52.509\n",
      "Imputing row 7401/15000 with 0 missing, elapsed time: 52.510\n",
      "Imputing row 7501/15000 with 0 missing, elapsed time: 52.511\n",
      "Imputing row 7601/15000 with 1 missing, elapsed time: 52.511\n",
      "Imputing row 7701/15000 with 0 missing, elapsed time: 52.512\n",
      "Imputing row 7801/15000 with 0 missing, elapsed time: 52.513\n",
      "Imputing row 7901/15000 with 0 missing, elapsed time: 52.514\n",
      "Imputing row 8001/15000 with 0 missing, elapsed time: 52.515\n",
      "Imputing row 8101/15000 with 0 missing, elapsed time: 52.517\n",
      "Imputing row 8201/15000 with 0 missing, elapsed time: 52.518\n",
      "Imputing row 8301/15000 with 0 missing, elapsed time: 52.518\n",
      "Imputing row 8401/15000 with 0 missing, elapsed time: 52.519\n",
      "Imputing row 8501/15000 with 0 missing, elapsed time: 52.520\n",
      "Imputing row 8601/15000 with 0 missing, elapsed time: 52.521\n",
      "Imputing row 8701/15000 with 0 missing, elapsed time: 52.522\n",
      "Imputing row 8801/15000 with 0 missing, elapsed time: 52.523\n",
      "Imputing row 8901/15000 with 0 missing, elapsed time: 52.524\n",
      "Imputing row 9001/15000 with 0 missing, elapsed time: 52.524\n",
      "Imputing row 9101/15000 with 0 missing, elapsed time: 52.525\n",
      "Imputing row 9201/15000 with 1 missing, elapsed time: 52.526\n",
      "Imputing row 9301/15000 with 1 missing, elapsed time: 52.526\n",
      "Imputing row 9401/15000 with 0 missing, elapsed time: 52.528\n",
      "Imputing row 9501/15000 with 1 missing, elapsed time: 52.528\n",
      "Imputing row 9601/15000 with 0 missing, elapsed time: 52.529\n",
      "Imputing row 9701/15000 with 0 missing, elapsed time: 52.531\n",
      "Imputing row 9801/15000 with 0 missing, elapsed time: 52.531\n",
      "Imputing row 9901/15000 with 1 missing, elapsed time: 52.533\n",
      "Imputing row 10001/15000 with 0 missing, elapsed time: 52.534\n",
      "Imputing row 10101/15000 with 0 missing, elapsed time: 52.534\n",
      "Imputing row 10201/15000 with 0 missing, elapsed time: 52.535\n",
      "Imputing row 10301/15000 with 2 missing, elapsed time: 52.538\n",
      "Imputing row 10401/15000 with 0 missing, elapsed time: 52.539\n",
      "Imputing row 10501/15000 with 1 missing, elapsed time: 52.539\n",
      "Imputing row 10601/15000 with 1 missing, elapsed time: 52.540\n",
      "Imputing row 10701/15000 with 0 missing, elapsed time: 52.540\n",
      "Imputing row 10801/15000 with 1 missing, elapsed time: 52.541\n",
      "Imputing row 10901/15000 with 0 missing, elapsed time: 52.542\n",
      "Imputing row 11001/15000 with 0 missing, elapsed time: 52.543\n",
      "Imputing row 11101/15000 with 1 missing, elapsed time: 52.546\n",
      "Imputing row 11201/15000 with 0 missing, elapsed time: 52.546\n",
      "Imputing row 11301/15000 with 0 missing, elapsed time: 52.547\n",
      "Imputing row 11401/15000 with 0 missing, elapsed time: 52.548\n",
      "Imputing row 11501/15000 with 0 missing, elapsed time: 52.549\n",
      "Imputing row 11601/15000 with 0 missing, elapsed time: 52.550\n",
      "Imputing row 11701/15000 with 1 missing, elapsed time: 52.551\n",
      "Imputing row 11801/15000 with 1 missing, elapsed time: 52.552\n",
      "Imputing row 11901/15000 with 0 missing, elapsed time: 52.553\n",
      "Imputing row 12001/15000 with 0 missing, elapsed time: 52.554\n",
      "Imputing row 12101/15000 with 0 missing, elapsed time: 52.555\n",
      "Imputing row 12201/15000 with 1 missing, elapsed time: 52.556\n",
      "Imputing row 12301/15000 with 0 missing, elapsed time: 52.557\n",
      "Imputing row 12401/15000 with 0 missing, elapsed time: 52.558\n",
      "Imputing row 12501/15000 with 0 missing, elapsed time: 52.558\n",
      "Imputing row 12601/15000 with 0 missing, elapsed time: 52.560\n",
      "Imputing row 12701/15000 with 0 missing, elapsed time: 52.561\n",
      "Imputing row 12801/15000 with 0 missing, elapsed time: 52.562\n",
      "Imputing row 12901/15000 with 1 missing, elapsed time: 52.564\n",
      "Imputing row 13001/15000 with 0 missing, elapsed time: 52.565\n",
      "Imputing row 13101/15000 with 0 missing, elapsed time: 52.566\n",
      "Imputing row 13201/15000 with 0 missing, elapsed time: 52.566\n",
      "Imputing row 13301/15000 with 0 missing, elapsed time: 52.567\n",
      "Imputing row 13401/15000 with 0 missing, elapsed time: 52.568\n",
      "Imputing row 13501/15000 with 0 missing, elapsed time: 52.570\n",
      "Imputing row 13601/15000 with 0 missing, elapsed time: 52.571\n",
      "Imputing row 13701/15000 with 0 missing, elapsed time: 52.571\n",
      "Imputing row 13801/15000 with 0 missing, elapsed time: 52.572\n",
      "Imputing row 13901/15000 with 2 missing, elapsed time: 52.573\n",
      "Imputing row 14001/15000 with 0 missing, elapsed time: 52.575\n",
      "Imputing row 14101/15000 with 0 missing, elapsed time: 52.576\n",
      "Imputing row 14201/15000 with 0 missing, elapsed time: 52.577\n",
      "Imputing row 14301/15000 with 0 missing, elapsed time: 52.578\n",
      "Imputing row 14401/15000 with 0 missing, elapsed time: 52.579\n",
      "Imputing row 14501/15000 with 0 missing, elapsed time: 52.580\n",
      "Imputing row 14601/15000 with 0 missing, elapsed time: 52.581\n",
      "Imputing row 14701/15000 with 0 missing, elapsed time: 52.582\n",
      "Imputing row 14801/15000 with 0 missing, elapsed time: 52.583\n",
      "Imputing row 14901/15000 with 0 missing, elapsed time: 52.583\n"
     ]
    }
   ],
   "source": [
    "X = df.drop('target', axis = 1)\n",
    "X_imputed = KNN(k=3).solve(X.values, X.isnull().values)"
   ]
  },
  {
   "cell_type": "code",
   "execution_count": 37,
   "metadata": {},
   "outputs": [],
   "source": [
    "final_df = pd.DataFrame(X_imputed, columns = X.columns)\n",
    "final_df['target'] = df.target\n",
    "final_df.to_csv('train_imputed.csv')"
   ]
  },
  {
   "cell_type": "code",
   "execution_count": null,
   "metadata": {},
   "outputs": [],
   "source": []
  }
 ],
 "metadata": {
  "kernelspec": {
   "display_name": "Python 3",
   "language": "python",
   "name": "python3"
  },
  "language_info": {
   "codemirror_mode": {
    "name": "ipython",
    "version": 3
   },
   "file_extension": ".py",
   "mimetype": "text/x-python",
   "name": "python",
   "nbconvert_exporter": "python",
   "pygments_lexer": "ipython3",
   "version": "3.7.5"
  }
 },
 "nbformat": 4,
 "nbformat_minor": 4
}
